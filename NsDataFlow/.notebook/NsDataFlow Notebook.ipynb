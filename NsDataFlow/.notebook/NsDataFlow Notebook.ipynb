{
 "cells": [
  {
   "cell_type": "markdown",
   "metadata": {},
   "source": [
    "<link rel=\"preconnect\" href=\"https://fonts.googleapis.com\">\n",
    "<link rel=\"preconnect\" href=\"https://fonts.gstatic.com\" crossorigin>\n",
    "<link href=\"https://fonts.googleapis.com/css2?family=Assistant:wght@200;300;400;500;600;700;800&family=Courier+Prime:ital,wght@0,400;0,700;1,400;1,700&family=Cutive+Mono&family=Fira+Code:wght@300;400;500;600;700&family=Merriweather+Sans:ital,wght@0,300;0,400;0,500;0,600;0,700;0,800;1,300;1,400;1,500;1,600;1,700;1,800&family=Montserrat:ital,wght@0,100;0,200;0,300;0,400;0,500;0,600;0,700;0,800;0,900;1,100;1,200;1,300;1,400;1,500;1,600;1,700;1,800;1,900&family=Red+Hat+Mono:ital,wght@0,300;0,400;0,500;0,600;0,700;1,300;1,400;1,500;1,600;1,700&family=Source+Code+Pro:ital,wght@0,300;0,400;0,500;0,600;0,700;0,800;0,900;1,200;1,300;1,400;1,500;1,600;1,700;1,800;1,900&family=Ubuntu+Mono:ital,wght@0,400;0,700;1,400;1,700&display=swap\" rel=\"stylesheet\">\n",
    "\n",
    "\n",
    "<style>\n",
    "\t.codeSpan01 {\n",
    "\t\tfont-family: \"Source Code Pro\", monospace;\n",
    "\t\tfont-weight: 500;\n",
    "\t}\n",
    "\t.codeSpan01-Light {\n",
    "\t\tfont-family: \"Source Code Pro\", monospace;\n",
    "\t\tfont-weight: 400;\n",
    "\t}\n",
    "\t.codeSpan01-75 {\n",
    "\t\tfont-family: \"Source Code Pro\", monospace;\n",
    "\t\tfont-weight: 500;\n",
    "\t\tfont-size: 75%;\n",
    "\t}\n",
    "\t.smallSpan {\n",
    "\t\tfont-size: 75%;\n",
    "\t}\n",
    "\t.demiSpan {\n",
    "\t\tfont-weight: 600;\n",
    "\t}\n",
    "\t.yellowSpan {\n",
    "\t\tcolor: hsla(58,80%,50%,1);\n",
    "\t}\n",
    "\t.yellowSpan-Demi {\n",
    "\t\tcolor: hsla(58,80%,47%,1);\n",
    "\t\tfont-weight: 600;\n",
    "\t}\n",
    "\t.yellowSpan-Bold {\n",
    "\t\tcolor: hsla(58,80%,47%,1);\n",
    "\t\tfont-weight: 700;\n",
    "\t}\n",
    "</style>\n",
    "\n",
    "\n",
    "# Advanced Function Template\n",
    "\n",
    "Welcome to the world of <b>Advanced PowerShell Scripting</b>. Just in case you're relatively new to creating <b><i>Advanced</i> Functions-</b> or even better, Advanced Functions with <i>insanely</i> complicated logic maps, I've added a basic template for Advanced PowerShell Functions in the following cell to get you started.\n",
    "\n",
    "### <b>Before we start...</b>\n",
    "- Any particularly aggressive syntax/code checkers, like <span class=\"demiSpan\">VS Code's</span>  <span class=\"yellowSpan-Demi\">PSScriptAnalyzer</span>, will likely mark the following (and probably several other things I haven't encountered yet) as \"errors\" simply because you declared/activated them, but haven't used them yet :(\n",
    "  - <span class=\"codeSpan01-Light\">[CmdletBinding(<span class=\"yellowSpan-Demi\">SupportShouldProcess</span>)]</span>\n",
    "  - <span class=\"codeSpan01-Light\"><span class=\"yellowSpan-Demi\">$Variables</span></span> <span class=\"smallSpan\">outside of a <span class=\"codeSpan01\">param()</span></span>"
   ]
  },
  {
   "cell_type": "code",
   "execution_count": null,
   "metadata": {
    "vscode": {
     "languageId": "powershell"
    }
   },
   "outputs": [],
   "source": [
    "function Start-DF_Task {\n",
    "\t\n",
    "\t[CmdletBinding(SupportsShouldProcess)]\n",
    "\tparam (\n",
    "\t\t\n",
    "\t)\n",
    "\t\n",
    "\n",
    "\tbegin {\n",
    "\n",
    "\t\t# Function & Host Prep (Variable Declarations, Directory/File Tests, etc)\n",
    "\n",
    "\t}\n",
    "\t\n",
    "\n",
    "\tprocess {\n",
    "\t\t# Primary Function Processes\n",
    "\t}\n",
    "\t\n",
    "\n",
    "\tend {\n",
    "\t\t\n",
    "\t\t# Final checks & Function \"Cleanup\" (for lack of a better term)\n",
    "\n",
    "\t}\n",
    "}"
   ]
  }
 ],
 "metadata": {
  "kernelspec": {
   "display_name": "Python 3.10.4 64-bit",
   "language": "python",
   "name": "python3"
  },
  "language_info": {
   "name": "python",
   "version": "3.10.4"
  },
  "orig_nbformat": 4,
  "vscode": {
   "interpreter": {
    "hash": "26de051ba29f2982a8de78e945f0abaf191376122a1563185a90213a26c5da77"
   }
  }
 },
 "nbformat": 4,
 "nbformat_minor": 2
}
